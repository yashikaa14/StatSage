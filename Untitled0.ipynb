{
  "nbformat": 4,
  "nbformat_minor": 0,
  "metadata": {
    "colab": {
      "provenance": []
    },
    "kernelspec": {
      "name": "python3",
      "display_name": "Python 3"
    },
    "language_info": {
      "name": "python"
    }
  },
  "cells": [
    {
      "cell_type": "code",
      "execution_count": null,
      "metadata": {
        "id": "7lE-wxofbkdX"
      },
      "outputs": [],
      "source": [
        "import numpy as np\n",
        "import pandas as pd\n",
        "import statistics as st\n"
      ]
    },
    {
      "cell_type": "code",
      "source": [],
      "metadata": {
        "id": "-3HVIfiaeNY8"
      },
      "execution_count": null,
      "outputs": []
    },
    {
      "cell_type": "code",
      "source": [
        "data=[15,28,99,86,88,110,103,87,94,78,77,85,46,35,68]\n",
        "print(np.mean(data))"
      ],
      "metadata": {
        "colab": {
          "base_uri": "https://localhost:8080/"
        },
        "id": "KOOPy988f3J0",
        "outputId": "47f254e6-b60d-423c-ebe9-580d7cf6b315"
      },
      "execution_count": null,
      "outputs": [
        {
          "output_type": "stream",
          "name": "stdout",
          "text": [
            "73.26666666666667\n"
          ]
        }
      ]
    },
    {
      "cell_type": "markdown",
      "source": [],
      "metadata": {
        "id": "4Q1QlgH6eNnR"
      }
    },
    {
      "cell_type": "code",
      "source": [
        "print(np.median(data))"
      ],
      "metadata": {
        "colab": {
          "base_uri": "https://localhost:8080/"
        },
        "id": "baGVaWt-gA-v",
        "outputId": "b7294855-28ed-4033-daf7-106a954f9c5e"
      },
      "execution_count": null,
      "outputs": [
        {
          "output_type": "stream",
          "name": "stdout",
          "text": [
            "85.0\n"
          ]
        }
      ]
    },
    {
      "cell_type": "code",
      "source": [
        "print(st.mean(data))"
      ],
      "metadata": {
        "colab": {
          "base_uri": "https://localhost:8080/"
        },
        "id": "IqZZGxmPgjBg",
        "outputId": "b0fd86e8-0d25-4207-d6f3-aa61705b8399"
      },
      "execution_count": null,
      "outputs": [
        {
          "output_type": "stream",
          "name": "stdout",
          "text": [
            "73.26666666666667\n"
          ]
        }
      ]
    },
    {
      "cell_type": "code",
      "source": [
        "print(st.median(data))"
      ],
      "metadata": {
        "colab": {
          "base_uri": "https://localhost:8080/"
        },
        "id": "PHkgP-xVgyXY",
        "outputId": "d8f72dff-7d28-4358-fcaa-bfbba86c75e8"
      },
      "execution_count": null,
      "outputs": [
        {
          "output_type": "stream",
          "name": "stdout",
          "text": [
            "85\n"
          ]
        }
      ]
    },
    {
      "cell_type": "code",
      "source": [
        "print(st.mode(data))"
      ],
      "metadata": {
        "colab": {
          "base_uri": "https://localhost:8080/"
        },
        "id": "m83vh66Fg3zr",
        "outputId": "67b684fb-209e-4e27-e764-c38b1fe43533"
      },
      "execution_count": null,
      "outputs": [
        {
          "output_type": "stream",
          "name": "stdout",
          "text": [
            "15\n"
          ]
        }
      ]
    },
    {
      "cell_type": "code",
      "source": [
        "print(st.variance(data))"
      ],
      "metadata": {
        "colab": {
          "base_uri": "https://localhost:8080/"
        },
        "id": "gTgellSriaMA",
        "outputId": "c5799b1e-d095-4228-e4fd-b1cd011a6038"
      },
      "execution_count": null,
      "outputs": [
        {
          "output_type": "stream",
          "name": "stdout",
          "text": [
            "839.0666666666667\n"
          ]
        }
      ]
    },
    {
      "cell_type": "code",
      "source": [
        "print(np.min(data))"
      ],
      "metadata": {
        "colab": {
          "base_uri": "https://localhost:8080/"
        },
        "id": "IQ7l161_i3tB",
        "outputId": "6a78635d-b7e8-4c2a-9618-a8145da686b3"
      },
      "execution_count": null,
      "outputs": [
        {
          "output_type": "stream",
          "name": "stdout",
          "text": [
            "15\n"
          ]
        }
      ]
    },
    {
      "cell_type": "code",
      "source": [
        "print(np.max(data))"
      ],
      "metadata": {
        "colab": {
          "base_uri": "https://localhost:8080/"
        },
        "id": "pek4NVhNjZqs",
        "outputId": "a0c972fd-5f7b-4cf9-d9c7-8c5fa08f7a33"
      },
      "execution_count": null,
      "outputs": [
        {
          "output_type": "stream",
          "name": "stdout",
          "text": [
            "110\n"
          ]
        }
      ]
    },
    {
      "cell_type": "code",
      "source": [
        "print(np.std(data))"
      ],
      "metadata": {
        "colab": {
          "base_uri": "https://localhost:8080/"
        },
        "id": "LrDoh_HujsDo",
        "outputId": "222d2535-f475-4b62-8d1e-8f79fd856296"
      },
      "execution_count": null,
      "outputs": [
        {
          "output_type": "stream",
          "name": "stdout",
          "text": [
            "27.984440121054572\n"
          ]
        }
      ]
    },
    {
      "cell_type": "code",
      "source": [
        "print(np.sort(data))"
      ],
      "metadata": {
        "colab": {
          "base_uri": "https://localhost:8080/"
        },
        "id": "JZMH7Mx9kOiL",
        "outputId": "42b3aecd-7b25-4cd9-b5d5-0d9629a46ab7"
      },
      "execution_count": null,
      "outputs": [
        {
          "output_type": "stream",
          "name": "stdout",
          "text": [
            "[ 15  28  35  46  68  77  78  85  86  87  88  94  99 103 110]\n"
          ]
        }
      ]
    },
    {
      "cell_type": "code",
      "source": [
        "print(np.percentile(data,68))"
      ],
      "metadata": {
        "colab": {
          "base_uri": "https://localhost:8080/"
        },
        "id": "7eVIeS9ZkTsw",
        "outputId": "83226191-712b-42f9-95c7-fb1461ce2fa9"
      },
      "execution_count": null,
      "outputs": [
        {
          "output_type": "stream",
          "name": "stdout",
          "text": [
            "87.52\n"
          ]
        }
      ]
    },
    {
      "cell_type": "code",
      "source": [
        "import scipy as sp\n",
        "from scipy.stats import skew\n",
        "print(skew(data))"
      ],
      "metadata": {
        "colab": {
          "base_uri": "https://localhost:8080/"
        },
        "id": "Bep7dqTKj_Yo",
        "outputId": "4f7137fb-a900-442f-8fcb-3928d01fb470"
      },
      "execution_count": null,
      "outputs": [
        {
          "output_type": "stream",
          "name": "stdout",
          "text": [
            "-0.7775097482749155\n"
          ]
        }
      ]
    },
    {
      "cell_type": "code",
      "source": [
        "from scipy.stats import kurtosis\n",
        "print(kurtosis(data))"
      ],
      "metadata": {
        "colab": {
          "base_uri": "https://localhost:8080/"
        },
        "id": "Gy9RNWIXlUvx",
        "outputId": "c1a69289-160f-487d-dcfb-f19235ff6353"
      },
      "execution_count": null,
      "outputs": [
        {
          "output_type": "stream",
          "name": "stdout",
          "text": [
            "-0.6327948421225051\n"
          ]
        }
      ]
    }
  ]
}